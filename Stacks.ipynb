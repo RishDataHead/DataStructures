{
 "cells": [
  {
   "cell_type": "markdown",
   "id": "e111a8be",
   "metadata": {},
   "source": [
    "# Assignment Questions 15\n",
    "\n",
    "<aside>\n",
    "💡 **Question 1**\n",
    "\n",
    "Given an array **arr[ ]** of size **N** having elements, the task is to find the next greater element for each element of the array in order of their appearance in the array.Next greater element of an element in the array is the nearest element on the right which is greater than the current element.If there does not exist next greater of current element, then next greater element for current element is -1. For example, next greater of the last element is always -1.\n",
    "\n",
    "</aside>"
   ]
  },
  {
   "cell_type": "code",
   "execution_count": 1,
   "id": "513f74cf",
   "metadata": {},
   "outputs": [
    {
     "name": "stdout",
     "output_type": "stream",
     "text": [
      "[5, 25, 25, -1]\n"
     ]
    }
   ],
   "source": [
    "def find_next_greater_elements(arr):\n",
    "    stack = []\n",
    "    result = [-1] * len(arr)  # Initialize result array with -1\n",
    "\n",
    "    for i in range(len(arr)-1, -1, -1):\n",
    "        while stack and stack[-1] <= arr[i]:\n",
    "            stack.pop()\n",
    "\n",
    "        if stack:\n",
    "            result[i] = stack[-1]\n",
    "\n",
    "        stack.append(arr[i])\n",
    "\n",
    "    return result\n",
    "arr = [4, 5, 2, 25]\n",
    "result = find_next_greater_elements(arr)\n",
    "print(result)\n"
   ]
  },
  {
   "cell_type": "markdown",
   "id": "80432081",
   "metadata": {},
   "source": [
    "# <aside>\n",
    "💡 **Question 2**\n",
    "\n",
    "Given an array **a** of integers of length **n**, find the nearest smaller number for every element such that the smaller element is on left side.If no small element present on the left print -1.\n",
    "\n",
    "</aside>"
   ]
  },
  {
   "cell_type": "code",
   "execution_count": 4,
   "id": "6e8481ae",
   "metadata": {},
   "outputs": [],
   "source": [
    "def find_nearest_smaller_elements(arr):\n",
    "    stack = []\n",
    "    result = [-1] * len(arr)  # Initialize result array with -1\n",
    "\n",
    "    for i in range(len(arr)):\n",
    "        while stack and stack[-1] >= arr[i]:\n",
    "            stack.pop()\n",
    "\n",
    "        if stack:\n",
    "            result[i] = stack[-1]\n",
    "\n",
    "        stack.append(arr[i])\n",
    "\n",
    "    return result\n"
   ]
  },
  {
   "cell_type": "code",
   "execution_count": 5,
   "id": "13c360c9",
   "metadata": {},
   "outputs": [
    {
     "name": "stdout",
     "output_type": "stream",
     "text": [
      "[-1, 1, 1]\n"
     ]
    }
   ],
   "source": [
    "arr = [1, 6, 2]\n",
    "result = find_nearest_smaller_elements(arr)\n",
    "print(result)\n"
   ]
  },
  {
   "cell_type": "markdown",
   "id": "057b2fb8",
   "metadata": {},
   "source": [
    "# <aside>\n",
    "💡 **Question 3**\n",
    "\n",
    "Implement a Stack using two queues **q1** and **q2**.\n",
    "\n",
    "</aside>"
   ]
  },
  {
   "cell_type": "code",
   "execution_count": 6,
   "id": "ed3c13d7",
   "metadata": {},
   "outputs": [
    {
     "name": "stdout",
     "output_type": "stream",
     "text": [
      "3\n",
      "4\n"
     ]
    }
   ],
   "source": [
    "from queue import Queue\n",
    "\n",
    "class Stack:\n",
    "    def __init__(self):\n",
    "        self.q1 = Queue()\n",
    "        self.q2 = Queue()\n",
    "\n",
    "    def push(self, value):\n",
    "        # Move all elements from q1 to q2\n",
    "        while not self.q1.empty():\n",
    "            self.q2.put(self.q1.get())\n",
    "\n",
    "        # Push the new element to q1\n",
    "        self.q1.put(value)\n",
    "\n",
    "        # Move all elements back to q1 from q2\n",
    "        while not self.q2.empty():\n",
    "            self.q1.put(self.q2.get())\n",
    "\n",
    "    def pop(self):\n",
    "        if self.q1.empty():\n",
    "            return None\n",
    "\n",
    "        return self.q1.get()\n",
    "\n",
    "# Test the implementation\n",
    "stack = Stack()\n",
    "stack.push(2)\n",
    "stack.push(3)\n",
    "print(stack.pop())  # Output: 3\n",
    "stack.push(4)\n",
    "print(stack.pop())  # Output: 4\n"
   ]
  },
  {
   "cell_type": "markdown",
   "id": "0a83a5e0",
   "metadata": {},
   "source": [
    "#Q4You are given a stack St. You have to reverse the stack using recursion. "
   ]
  },
  {
   "cell_type": "code",
   "execution_count": 7,
   "id": "9b173a2a",
   "metadata": {},
   "outputs": [
    {
     "name": "stdout",
     "output_type": "stream",
     "text": [
      "Original stack: [1, 2, 3, 4]\n",
      "Reversed stack: [4, 3, 2, 1]\n"
     ]
    }
   ],
   "source": [
    "class Stack:\n",
    "    def __init__(self):\n",
    "        self.items = []\n",
    "\n",
    "    def push(self, item):\n",
    "        self.items.append(item)\n",
    "\n",
    "    def pop(self):\n",
    "        if not self.is_empty():\n",
    "            return self.items.pop()\n",
    "\n",
    "    def is_empty(self):\n",
    "        return len(self.items) == 0\n",
    "\n",
    "    def reverse_stack(self):\n",
    "        if not self.is_empty():\n",
    "            # Pop the top element\n",
    "            item = self.pop()\n",
    "\n",
    "            # Recursively reverse the remaining stack\n",
    "            self.reverse_stack()\n",
    "\n",
    "            # Insert the popped element at the bottom\n",
    "            self.insert_at_bottom(item)\n",
    "\n",
    "    def insert_at_bottom(self, item):\n",
    "        if self.is_empty():\n",
    "            self.push(item)\n",
    "        else:\n",
    "            # Pop all elements and recursively insert at bottom\n",
    "            temp = self.pop()\n",
    "            self.insert_at_bottom(item)\n",
    "\n",
    "            # Push the popped elements back\n",
    "            self.push(temp)\n",
    "\n",
    "\n",
    "# Test the implementation\n",
    "stack = Stack()\n",
    "stack.push(1)\n",
    "stack.push(2)\n",
    "stack.push(3)\n",
    "stack.push(4)\n",
    "\n",
    "print(\"Original stack:\", stack.items)\n",
    "stack.reverse_stack()\n",
    "print(\"Reversed stack:\", stack.items)\n"
   ]
  },
  {
   "cell_type": "markdown",
   "id": "eb2fac20",
   "metadata": {},
   "source": [
    "# <aside>\n",
    "💡 **Question 5**\n",
    "\n",
    "You are given a string **S**, the task is to reverse the string using stack.\n",
    "\n",
    "</aside>"
   ]
  },
  {
   "cell_type": "code",
   "execution_count": 8,
   "id": "9a023a09",
   "metadata": {},
   "outputs": [
    {
     "name": "stdout",
     "output_type": "stream",
     "text": [
      "Original string: Hello, World!\n",
      "Reversed string: !dlroW ,olleH\n"
     ]
    }
   ],
   "source": [
    "class Stack:\n",
    "    def __init__(self):\n",
    "        self.items = []\n",
    "\n",
    "    def push(self, item):\n",
    "        self.items.append(item)\n",
    "\n",
    "    def pop(self):\n",
    "        if not self.is_empty():\n",
    "            return self.items.pop()\n",
    "\n",
    "    def is_empty(self):\n",
    "        return len(self.items) == 0\n",
    "\n",
    "def reverse_string(string):\n",
    "    stack = Stack()\n",
    "    reversed_string = ''\n",
    "\n",
    "    # Push each character onto the stack\n",
    "    for char in string:\n",
    "        stack.push(char)\n",
    "\n",
    "    # Pop each character from the stack and append it to the reversed string\n",
    "    while not stack.is_empty():\n",
    "        char = stack.pop()\n",
    "        reversed_string += char\n",
    "\n",
    "    return reversed_string\n",
    "\n",
    "# Test the implementation\n",
    "string = \"Hello, World!\"\n",
    "reversed_string = reverse_string(string)\n",
    "print(\"Original string:\", string)\n",
    "print(\"Reversed string:\", reversed_string)\n"
   ]
  },
  {
   "cell_type": "markdown",
   "id": "39539cb8",
   "metadata": {},
   "source": [
    "# <aside>\n",
    "💡 **Question 6**\n",
    "\n",
    "Given string **S** representing a postfix expression, the task is to evaluate the expression and find the final value. Operators will only include the basic arithmetic operators like ***, /, + and -**\n",
    "\n",
    "</aside>"
   ]
  },
  {
   "cell_type": "code",
   "execution_count": 9,
   "id": "d4bbf79b",
   "metadata": {},
   "outputs": [
    {
     "name": "stdout",
     "output_type": "stream",
     "text": [
      "Expression: 532*+\n",
      "Evaluated Result: 11\n"
     ]
    }
   ],
   "source": [
    "class Stack:\n",
    "    def __init__(self):\n",
    "        self.items = []\n",
    "\n",
    "    def push(self, item):\n",
    "        self.items.append(item)\n",
    "\n",
    "    def pop(self):\n",
    "        if not self.is_empty():\n",
    "            return self.items.pop()\n",
    "\n",
    "    def is_empty(self):\n",
    "        return len(self.items) == 0\n",
    "\n",
    "def evaluate_postfix(expression):\n",
    "    stack = Stack()\n",
    "\n",
    "    for char in expression:\n",
    "        if char.isdigit():\n",
    "            # Operand: Convert to integer and push onto the stack\n",
    "            stack.push(int(char))\n",
    "        else:\n",
    "            # Operator: Pop the top two operands, perform operation, and push result\n",
    "            operand2 = stack.pop()\n",
    "            operand1 = stack.pop()\n",
    "\n",
    "            result = perform_operation(operand1, operand2, char)\n",
    "            stack.push(result)\n",
    "\n",
    "    # The final result will be the only element left on the stack\n",
    "    return stack.pop()\n",
    "\n",
    "def perform_operation(operand1, operand2, operator):\n",
    "    if operator == '+':\n",
    "        return operand1 + operand2\n",
    "    elif operator == '-':\n",
    "        return operand1 - operand2\n",
    "    elif operator == '*':\n",
    "        return operand1 * operand2\n",
    "    elif operator == '/':\n",
    "        return operand1 / operand2\n",
    "\n",
    "# Test the implementation\n",
    "expression = \"532*+\"\n",
    "result = evaluate_postfix(expression)\n",
    "print(\"Expression:\", expression)\n",
    "print(\"Evaluated Result:\", result)\n"
   ]
  },
  {
   "cell_type": "markdown",
   "id": "ac2d1515",
   "metadata": {},
   "source": [
    "<aside>\n",
    "💡 **Question 7**\n",
    "\n",
    "Design a stack that supports push, pop, top, and retrieving the minimum element in constant time.\n",
    "\n",
    "Implement the `MinStack` class:\n",
    "\n",
    "- `MinStack()` initializes the stack object.\n",
    "- `void push(int val)` pushes the element `val` onto the stack.\n",
    "- `void pop()` removes the element on the top of the stack.\n",
    "- `int top()` gets the top element of the stack.\n",
    "- `int getMin()` retrieves the minimum element in the stack.\n",
    "\n",
    "You must implement a solution with `O(1)` time complexity for each function.\n",
    "\n",
    "</aside># "
   ]
  },
  {
   "cell_type": "code",
   "execution_count": 11,
   "id": "56fe900a",
   "metadata": {},
   "outputs": [
    {
     "name": "stdout",
     "output_type": "stream",
     "text": [
      "Minimum element: -3\n",
      "Top element: 0\n",
      "Minimum element: -2\n"
     ]
    }
   ],
   "source": [
    "class MinStack:\n",
    "    def __init__(self):\n",
    "        self.stack = []\n",
    "        self.min_stack = []\n",
    "\n",
    "    def push(self, val):\n",
    "        self.stack.append(val)\n",
    "\n",
    "        # Update the minimum stack\n",
    "        if not self.min_stack or val <= self.min_stack[-1]:\n",
    "            self.min_stack.append(val)\n",
    "\n",
    "    def pop(self):\n",
    "        if self.stack:\n",
    "            val = self.stack.pop()\n",
    "\n",
    "            # Update the minimum stack\n",
    "            if val == self.min_stack[-1]:\n",
    "                self.min_stack.pop()\n",
    "\n",
    "    def top(self):\n",
    "        if self.stack:\n",
    "            return self.stack[-1]\n",
    "\n",
    "    def getMin(self):\n",
    "        if self.min_stack:\n",
    "            return self.min_stack[-1]\n",
    "\n",
    "# Test the implementation\n",
    "stack = MinStack()\n",
    "stack.push(-2)\n",
    "stack.push(0)\n",
    "stack.push(-3)\n",
    "\n",
    "print(\"Minimum element:\", stack.getMin())  # Output: -3\n",
    "stack.pop()\n",
    "print(\"Top element:\", stack.top())         # Output: 0\n",
    "print(\"Minimum element:\", stack.getMin())  # Output: -2\n"
   ]
  },
  {
   "cell_type": "markdown",
   "id": "38ebbbbb",
   "metadata": {},
   "source": [
    "# <aside>\n",
    "💡 **Question 8**\n",
    "\n",
    "Given `n` non-negative integers representing an elevation map where the width of each bar is `1`, compute how much water it can trap after raining.\n",
    "\n",
    "</aside>"
   ]
  },
  {
   "cell_type": "code",
   "execution_count": null,
   "id": "04cfa16e",
   "metadata": {},
   "outputs": [],
   "source": [
    "def trap(height):\n",
    "    left = 0\n",
    "    right = len(height) - 1\n",
    "    left_max = right_max = total_water = 0\n",
    "\n",
    "    while left <= right:\n",
    "        if height[left] <= height[right]:\n",
    "            left_max = max(left_max, height[left])\n",
    "            water_level = left_max - height[left]\n",
    "            total_water += water_level\n",
    "            left += 1\n",
    "        else:\n",
    "            right_max = max(right_max, height[right])\n",
    "            water_level = right_max - height[right]\n",
    "            total_water += water_level\n",
    "            right -= 1\n",
    "\n",
    "    return total_water\n",
    "\n",
    "# Test the implementation\n",
    "height = [0, 1, 0, 2, 1, 0, 1, 3, 2, 1, 2, 1]\n",
    "water_trapped = trap(height)\n",
    "print(\"Amount of water trapped:\", water_trapped)\n"
   ]
  }
 ],
 "metadata": {
  "kernelspec": {
   "display_name": "Python 3",
   "language": "python",
   "name": "python3"
  },
  "language_info": {
   "codemirror_mode": {
    "name": "ipython",
    "version": 3
   },
   "file_extension": ".py",
   "mimetype": "text/x-python",
   "name": "python",
   "nbconvert_exporter": "python",
   "pygments_lexer": "ipython3",
   "version": "3.7.6"
  }
 },
 "nbformat": 4,
 "nbformat_minor": 5
}
