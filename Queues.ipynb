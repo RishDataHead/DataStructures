{
 "cells": [
  {
   "cell_type": "markdown",
   "id": "4a62522a",
   "metadata": {},
   "source": [
    "# <aside>\n",
    "💡 **Question 1**\n",
    "\n",
    "Given a string `s`, *find the first non-repeating character in it and return its index*. If it does not exist, return `-1`.\n",
    "\n",
    "**Example 1:**\n",
    "Input: s = \"leetcode\"\n",
    "Output: 0\n",
    "\n",
    "</aside>"
   ]
  },
  {
   "cell_type": "code",
   "execution_count": 2,
   "id": "247d430d",
   "metadata": {},
   "outputs": [
    {
     "name": "stdout",
     "output_type": "stream",
     "text": [
      "First Unique Character Index: 0\n"
     ]
    }
   ],
   "source": [
    "def firstUniqChar(s):\n",
    "    char_count = {}\n",
    "\n",
    "    # Count the occurrences of each character\n",
    "    for char in s:\n",
    "        char_count[char] = char_count.get(char, 0) + 1\n",
    "\n",
    "    # Find the first non-repeating character\n",
    "    for i, char in enumerate(s):\n",
    "        if char_count[char] == 1:\n",
    "            return i\n",
    "\n",
    "    # If no non-repeating character found, return -1\n",
    "    return -1\n",
    "\n",
    "# Test the implementation\n",
    "s = \"leetcode\"\n",
    "first_unique_index = firstUniqChar(s)\n",
    "print(\"First Unique Character Index:\", first_unique_index)\n"
   ]
  },
  {
   "cell_type": "markdown",
   "id": "59526984",
   "metadata": {},
   "source": [
    "# <aside>\n",
    "💡 **Question 2**\n",
    "\n",
    "Given a **circular integer array** `nums` of length `n`, return *the maximum possible sum of a non-empty **subarray** of* `nums`.\n",
    "\n",
    "A **circular array** means the end of the array connects to the beginning of the array. Formally, the next element of `nums[i]` is `nums[(i + 1) % n]` and the previous element of `nums[i]` is `nums[(i - 1 + n) % n]`.\n",
    "\n",
    "A **subarray** may only include each element of the fixed buffer `nums` at most once. Formally, for a subarray `nums[i], nums[i + 1], ..., nums[j]`, there does not exist `i <= k1`, `k2 <= j` with `k1 % n == k2 % n`.\n",
    "\n",
    "**Example 1:**\n",
    "    Input: nums = [1,-2,3,-2]\n",
    "Output: 3\n",
    "Explanation: Subarray [3] has maximum sum 3.\n",
    "\n",
    "</aside>"
   ]
  },
  {
   "cell_type": "code",
   "execution_count": 3,
   "id": "8b81f8c6",
   "metadata": {},
   "outputs": [
    {
     "name": "stdout",
     "output_type": "stream",
     "text": [
      "Maximum Subarray Sum: 3\n"
     ]
    }
   ],
   "source": [
    "def maxSubarraySumCircular(nums):\n",
    "    total_sum = 0\n",
    "    max_sum = float('-inf')\n",
    "    min_sum = float('inf')\n",
    "    curr_max_sum = 0\n",
    "    curr_min_sum = 0\n",
    "\n",
    "    # Case 1: Find the maximum sum subarray (non-circular)\n",
    "    for num in nums:\n",
    "        curr_max_sum = max(curr_max_sum + num, num)\n",
    "        max_sum = max(max_sum, curr_max_sum)\n",
    "        curr_min_sum = min(curr_min_sum + num, num)\n",
    "        min_sum = min(min_sum, curr_min_sum)\n",
    "        total_sum += num\n",
    "\n",
    "    # Case 2: Check if the maximum sum subarray wraps around\n",
    "    if max_sum > 0:\n",
    "        return max(max_sum, total_sum - min_sum)\n",
    "    else:\n",
    "        return max_sum\n",
    "\n",
    "# Test the implementation\n",
    "nums = [1, -2, 3, -2]\n",
    "max_subarray_sum = maxSubarraySumCircular(nums)\n",
    "print(\"Maximum Subarray Sum:\", max_subarray_sum)\n"
   ]
  },
  {
   "cell_type": "markdown",
   "id": "74b1f9f1",
   "metadata": {},
   "source": [
    "# <aside>\n",
    "💡 **Question 3**\n",
    "\n",
    "The school cafeteria offers circular and square sandwiches at lunch break, referred to by numbers `0` and `1` respectively. All students stand in a queue. Each student either prefers square or circular sandwiches.\n",
    "\n",
    "The number of sandwiches in the cafeteria is equal to the number of students. The sandwiches are placed in a **stack**. At each step:\n",
    "\n",
    "- If the student at the front of the queue **prefers** the sandwich on the top of the stack, they will **take it** and leave the queue.\n",
    "- Otherwise, they will **leave it** and go to the queue's end.\n",
    "\n",
    "This continues until none of the queue students want to take the top sandwich and are thus unable to eat.\n",
    "\n",
    "You are given two integer arrays `students` and `sandwiches` where `sandwiches[i]` is the type of the `ith` sandwich in the stack (`i = 0` is the top of the stack) and `students[j]` is the preference of the `jth` student in the initial queue (`j = 0` is the front of the queue). Return *the number of students that are unable to eat.*\n",
    "    \n",
    "    Input: students = [1,1,0,0], sandwiches = [0,1,0,1]\n",
    "Output: 0\n",
    "Explanation:\n",
    "- Front student leaves the top sandwich and returns to the end of the line making students = [1,0,0,1].\n",
    "- Front student leaves the top sandwich and returns to the end of the line making students = [0,0,1,1].\n",
    "- Front student takes the top sandwich and leaves the line making students = [0,1,1] and sandwiches = [1,0,1].\n",
    "- Front student leaves the top sandwich and returns to the end of the line making students = [1,1,0].\n",
    "- Front student takes the top sandwich and leaves the line making students = [1,0] and sandwiches = [0,1].\n",
    "- Front student leaves the top sandwich and returns to the end of the line making students = [0,1].\n",
    "- Front student takes the top sandwich and leaves the line making students = [1] and sandwiches = [1].\n",
    "- Front student takes the top sandwich and leaves the line making students = [] and sandwiches = [].\n",
    "Hence all students are able to eat.\n",
    "\n",
    "\n",
    "</aside>"
   ]
  },
  {
   "cell_type": "code",
   "execution_count": 4,
   "id": "81169a6f",
   "metadata": {},
   "outputs": [
    {
     "name": "stdout",
     "output_type": "stream",
     "text": [
      "Number of students unable to eat: 3\n"
     ]
    }
   ],
   "source": [
    "def countStudents(students, sandwiches):\n",
    "    student_count = len(students)\n",
    "    sandwich_count = len(sandwiches)\n",
    "    i = 0  # Index for students\n",
    "    j = 0  # Index for sandwiches\n",
    "\n",
    "    while i < student_count:\n",
    "        if students[i] == sandwiches[j]:\n",
    "            # The student prefers the sandwich, so they take it\n",
    "            i += 1\n",
    "            j += 1\n",
    "        else:\n",
    "            # The student does not prefer the sandwich, so they go to the end of the queue\n",
    "            i += 1\n",
    "\n",
    "        # Check if we have reached the end of the sandwiches stack\n",
    "        if j == sandwich_count:\n",
    "            break\n",
    "\n",
    "    # Return the number of students unable to eat (remaining in the queue)\n",
    "    return student_count - j\n",
    "\n",
    "# Test the implementation\n",
    "students = [1, 1, 0, 0]\n",
    "sandwiches = [0, 1, 0, 1]\n",
    "unable_to_eat = countStudents(students, sandwiches)\n",
    "print(\"Number of students unable to eat:\", unable_to_eat)\n"
   ]
  },
  {
   "cell_type": "markdown",
   "id": "4cfe2360",
   "metadata": {},
   "source": [
    "# <aside>\n",
    "💡 **Question 4**\n",
    "\n",
    "You have a `RecentCounter` class which counts the number of recent requests within a certain time frame.\n",
    "\n",
    "Implement the `RecentCounter` class:\n",
    "\n",
    "- `RecentCounter()` Initializes the counter with zero recent requests.\n",
    "- `int ping(int t)` Adds a new request at time `t`, where `t` represents some time in milliseconds, and returns the number of requests that has happened in the past `3000` milliseconds (including the new request). Specifically, return the number of requests that have happened in the inclusive range `[t - 3000, t]`.\n",
    "\n",
    "It is **guaranteed** that every call to `ping` uses a strictly larger value of `t` than the previous call.\n",
    "\n",
    "**Example 1:**\n",
    "    Input\n",
    "[\"RecentCounter\", \"ping\", \"ping\", \"ping\", \"ping\"]\n",
    "[[], [1], [100], [3001], [3002]]\n",
    "Output\n",
    "[null, 1, 2, 3, 3]\n",
    "\n",
    "Explanation\n",
    "RecentCounter recentCounter = new RecentCounter();\n",
    "recentCounter.ping(1);     // requests = [1], range is [-2999,1], return 1\n",
    "recentCounter.ping(100);   // requests = [1,100], range is [-2900,100], return 2\n",
    "recentCounter.ping(3001);  // requests = [1,100,3001], range is [1,3001], return 3\n",
    "recentCounter.ping(3002);  // requests = [1,100,3001,3002], range is [2,3002], return 3\n",
    "\n",
    "</aside>"
   ]
  },
  {
   "cell_type": "code",
   "execution_count": 5,
   "id": "2caebf17",
   "metadata": {},
   "outputs": [],
   "source": [
    "from collections import deque\n",
    "\n",
    "class RecentCounter:\n",
    "    def __init__(self):\n",
    "        self.requests = deque()\n",
    "\n",
    "    def ping(self, t: int) -> int:\n",
    "        # Remove requests that are outside the time frame\n",
    "        while self.requests and self.requests[0] < t - 3000:\n",
    "            self.requests.popleft()\n",
    "\n",
    "        # Add the new request to the queue\n",
    "        self.requests.append(t)\n",
    "\n",
    "        # Return the number of requests within the time frame\n",
    "        return len(self.requests)\n"
   ]
  },
  {
   "cell_type": "code",
   "execution_count": 6,
   "id": "e6541dc8",
   "metadata": {},
   "outputs": [
    {
     "name": "stdout",
     "output_type": "stream",
     "text": [
      "1\n",
      "2\n",
      "3\n",
      "3\n"
     ]
    }
   ],
   "source": [
    "# Create a RecentCounter object\n",
    "recentCounter = RecentCounter()\n",
    "\n",
    "# Perform ping operations\n",
    "print(recentCounter.ping(1))     # Output: 1\n",
    "print(recentCounter.ping(100))   # Output: 2\n",
    "print(recentCounter.ping(3001))  # Output: 3\n",
    "print(recentCounter.ping(3002))  # Output: 3\n"
   ]
  },
  {
   "cell_type": "markdown",
   "id": "d82a9ca6",
   "metadata": {},
   "source": [
    "# <aside>\n",
    "💡 **Question 5**\n",
    "\n",
    "There are `n` friends that are playing a game. The friends are sitting in a circle and are numbered from `1` to `n` in **clockwise order**. More formally, moving clockwise from the `ith` friend brings you to the `(i+1)th` friend for `1 <= i < n`, and moving clockwise from the `nth` friend brings you to the `1st` friend.\n",
    "\n",
    "The rules of the game are as follows:\n",
    "\n",
    "1. **Start** at the `1st` friend.\n",
    "2. Count the next `k` friends in the clockwise direction **including** the friend you started at. The counting wraps around the circle and may count some friends more than once.\n",
    "3. The last friend you counted leaves the circle and loses the game.\n",
    "4. If there is still more than one friend in the circle, go back to step `2` **starting** from the friend **immediately clockwise** of the friend who just lost and repeat.\n",
    "5. Else, the last friend in the circle wins the game.\n",
    "\n",
    "Given the number of friends, `n`, and an integer `k`, return *the winner of the game*.\n",
    "    Input: n = 5, k = 2\n",
    "Output: 3\n",
    "Explanation: Here are the steps of the game:\n",
    "1) Start at friend 1.\n",
    "2) Count 2 friends clockwise, which are friends 1 and 2.\n",
    "3) Friend 2 leaves the circle. Next start is friend 3.\n",
    "4) Count 2 friends clockwise, which are friends 3 and 4.\n",
    "5) Friend 4 leaves the circle. Next start is friend 5.\n",
    "6) Count 2 friends clockwise, which are friends 5 and 1.\n",
    "7) Friend 1 leaves the circle. Next start is friend 3.\n",
    "8) Count 2 friends clockwise, which are friends 3 and 5.\n",
    "9) Friend 5 leaves the circle. Only friend 3 is left, so they are the winner.\n",
    "\n",
    "</aside>"
   ]
  },
  {
   "cell_type": "code",
   "execution_count": 7,
   "id": "b7027382",
   "metadata": {},
   "outputs": [
    {
     "name": "stdout",
     "output_type": "stream",
     "text": [
      "3\n"
     ]
    }
   ],
   "source": [
    "def findTheWinner(n: int, k: int) -> int:\n",
    "    friends = list(range(1, n+1))  # Create a list representing the circle of friends\n",
    "    curr = 0  # Index of the current friend\n",
    "\n",
    "    while len(friends) > 1:\n",
    "        curr = (curr + k - 1) % len(friends)  # Move clockwise k-1 steps\n",
    "        friends.pop(curr)  # Remove the friend who lost\n",
    "\n",
    "    return friends[0]  # Return the winner\n",
    "n = 5\n",
    "k = 2\n",
    "winner = findTheWinner(n, k)\n",
    "print(winner)  # Output: 3\n"
   ]
  },
  {
   "cell_type": "markdown",
   "id": "3873f26d",
   "metadata": {},
   "source": [
    "# <aside>\n",
    "💡 **Question 6**\n",
    "\n",
    "You are given an integer array `deck`. There is a deck of cards where every card has a unique integer. The integer on the `ith` card is `deck[i]`.\n",
    "\n",
    "You can order the deck in any order you want. Initially, all the cards start face down (unrevealed) in one deck.\n",
    "\n",
    "You will do the following steps repeatedly until all cards are revealed:\n",
    "\n",
    "1. Take the top card of the deck, reveal it, and take it out of the deck.\n",
    "2. If there are still cards in the deck then put the next top card of the deck at the bottom of the deck.\n",
    "3. If there are still unrevealed cards, go back to step 1. Otherwise, stop.\n",
    "\n",
    "Return *an ordering of the deck that would reveal the cards in increasing order*.\n",
    "\n",
    "**Note** that the first entry in the answer is considered to be the top of the deck.\n",
    "    Input: deck = [17,13,11,2,3,5,7]\n",
    "Output: [2,13,3,11,5,17,7]\n",
    "Explanation:\n",
    "We get the deck in the order [17,13,11,2,3,5,7] (this order does not matter), and reorder it.\n",
    "After reordering, the deck starts as [2,13,3,11,5,17,7], where 2 is the top of the deck.\n",
    "We reveal 2, and move 13 to the bottom.  The deck is now [3,11,5,17,7,13].\n",
    "We reveal 3, and move 11 to the bottom.  The deck is now [5,17,7,13,11].\n",
    "We reveal 5, and move 17 to the bottom.  The deck is now [7,13,11,17].\n",
    "We reveal 7, and move 13 to the bottom.  The deck is now [11,17,13].\n",
    "We reveal 11, and move 17 to the bottom.  The deck is now [13,17].\n",
    "We reveal 13, and move 17 to the bottom.  The deck is now [17].\n",
    "We reveal 17.\n",
    "Since all the cards revealed are in increasing order, the answer is correct.\n",
    "\n",
    "</aside>"
   ]
  },
  {
   "cell_type": "code",
   "execution_count": 8,
   "id": "75334805",
   "metadata": {},
   "outputs": [],
   "source": [
    "from collections import deque\n",
    "def deckRevealedIncreasing(deck):\n",
    "    deck.sort(reverse=True)  # Sort the deck in descending order\n",
    "    result = deque()\n",
    "    result.appendleft(deck[0])  # Take the largest card and put it at the bottom of the result\n",
    "    for card in deck[1:]:\n",
    "        result.appendleft(result.pop())  # Move the top card to the bottom\n",
    "        result.appendleft(card)  # Put the next card at the top\n",
    "    return list(result)\n"
   ]
  },
  {
   "cell_type": "code",
   "execution_count": 9,
   "id": "12e53240",
   "metadata": {},
   "outputs": [
    {
     "name": "stdout",
     "output_type": "stream",
     "text": [
      "[2, 13, 3, 11, 5, 17, 7]\n"
     ]
    }
   ],
   "source": [
    "deck = [17, 13, 11, 2, 3, 5, 7]\n",
    "ordered_deck = deckRevealedIncreasing(deck)\n",
    "print(ordered_deck)  # Output: [2, 13, 3, 11, 5, 17, 7]\n"
   ]
  },
  {
   "cell_type": "markdown",
   "id": "19071959",
   "metadata": {},
   "source": [
    "# <aside>\n",
    "💡 **Question 7**\n",
    "\n",
    "Design a queue that supports `push` and `pop` operations in the front, middle, and back.\n",
    "\n",
    "Implement the `FrontMiddleBack` class:\n",
    "\n",
    "- `FrontMiddleBack()` Initializes the queue.\n",
    "- `void pushFront(int val)` Adds `val` to the **front** of the queue.\n",
    "- `void pushMiddle(int val)` Adds `val` to the **middle** of the queue.\n",
    "- `void pushBack(int val)` Adds `val` to the **back** of the queue.\n",
    "- `int popFront()` Removes the **front** element of the queue and returns it. If the queue is empty, return `1`.\n",
    "- `int popMiddle()` Removes the **middle** element of the queue and returns it. If the queue is empty, return `1`.\n",
    "- `int popBack()` Removes the **back** element of the queue and returns it. If the queue is empty, return `1`.\n",
    "\n",
    "**Notice** that when there are **two** middle position choices, the operation is performed on the **frontmost** middle position choice. For example:\n",
    "\n",
    "- Pushing `6` into the middle of `[1, 2, 3, 4, 5]` results in `[1, 2, 6, 3, 4, 5]`.\n",
    "- Popping the middle from `[1, 2, 3, 4, 5, 6]` returns `3` and results in `[1, 2, 4, 5, 6]`.\n",
    "\n",
    "**Example 1:**\n",
    "    Input:\n",
    "[\"FrontMiddleBackQueue\", \"pushFront\", \"pushBack\", \"pushMiddle\", \"pushMiddle\", \"popFront\", \"popMiddle\", \"popMiddle\", \"popBack\", \"popFront\"]\n",
    "[[], [1], [2], [3], [4], [], [], [], [], []]\n",
    "Output:\n",
    "[null, null, null, null, null, 1, 3, 4, 2, -1]\n",
    "\n",
    "Explanation:\n",
    "FrontMiddleBackQueue q = new FrontMiddleBackQueue();\n",
    "q.pushFront(1);   // [1]\n",
    "q.pushBack(2);    // [1,2]\n",
    "q.pushMiddle(3);  // [1,3, 2]\n",
    "q.pushMiddle(4);  // [1,4, 3, 2]\n",
    "q.popFront();     // return 1 -> [4, 3, 2]\n",
    "q.popMiddle();    // return 3 -> [4, 2]\n",
    "q.popMiddle();    // return 4 -> [2]\n",
    "q.popBack();      // return 2 -> []\n",
    "q.popFront();     // return -1 -> [] (The queue is empty)\n",
    "\n",
    "</aside>"
   ]
  },
  {
   "cell_type": "code",
   "execution_count": 10,
   "id": "0f5249d7",
   "metadata": {},
   "outputs": [],
   "source": [
    "from collections import deque\n",
    "\n",
    "class FrontMiddleBackQueue:\n",
    "    def __init__(self):\n",
    "        self.front = deque()\n",
    "        self.back = deque()\n",
    "\n",
    "    def pushFront(self, val):\n",
    "        self.front.appendleft(val)\n",
    "        self._balance()\n",
    "\n",
    "    def pushMiddle(self, val):\n",
    "        if len(self.front) > len(self.back):\n",
    "            self.back.appendleft(self.front.pop())\n",
    "        self.front.append(val)\n",
    "\n",
    "    def pushBack(self, val):\n",
    "        self.back.append(val)\n",
    "        self._balance()\n",
    "\n",
    "    def popFront(self):\n",
    "        if self.front:\n",
    "            return self.front.popleft()\n",
    "        elif self.back:\n",
    "            return self.back.popleft()\n",
    "        else:\n",
    "            return -1\n",
    "\n",
    "    def popMiddle(self):\n",
    "        if len(self.front) == len(self.back):\n",
    "            return self.front.pop()\n",
    "        else:\n",
    "            return self.back.popleft()\n",
    "\n",
    "    def popBack(self):\n",
    "        if self.back:\n",
    "            return self.back.pop()\n",
    "        elif self.front:\n",
    "            return self.front.pop()\n",
    "        else:\n",
    "            return -1\n",
    "\n",
    "    def _balance(self):\n",
    "        if len(self.front) > len(self.back) + 1:\n",
    "            self.back.appendleft(self.front.pop())\n",
    "        elif len(self.back) > len(self.front):\n",
    "            self.front.append(self.back.popleft())\n"
   ]
  },
  {
   "cell_type": "markdown",
   "id": "1a12524d",
   "metadata": {},
   "source": [
    "<aside>\n",
    "💡 **Question 8**\n",
    "\n",
    "For a stream of integers, implement a data structure that checks if the last `k` integers parsed in the stream are **equal** to `value`.\n",
    "\n",
    "Implement the **DataStream** class:\n",
    "\n",
    "- `DataStream(int value, int k)` Initializes the object with an empty integer stream and the two integers `value` and `k`.\n",
    "- `boolean consec(int num)` Adds `num` to the stream of integers. Returns `true` if the last `k` integers are equal to `value`, and `false` otherwise. If there are less than `k` integers, the condition does not hold true, so returns `false`.\n",
    "</aside>\n",
    "Input\n",
    "[\"DataStream\", \"consec\", \"consec\", \"consec\", \"consec\"]\n",
    "[[4, 3], [4], [4], [4], [3]]\n",
    "Output\n",
    "[null, false, false, true, false]\n",
    "\n",
    "Explanation\n",
    "DataStream dataStream = new DataStream(4, 3); //value = 4, k = 3\n",
    "dataStream.consec(4); // Only 1 integer is parsed, so returns False.\n",
    "dataStream.consec(4); // Only 2 integers are parsed.\n",
    "                      // Since 2 is less than k, returns False.\n",
    "dataStream.consec(4); // The 3 integers parsed are all equal to value, so returns True.\n",
    "dataStream.consec(3); // The last k integers parsed in the stream are [4,4,3].\n",
    "                      // Since 3 is not equal to value, it returns False."
   ]
  },
  {
   "cell_type": "code",
   "execution_count": 12,
   "id": "c2785aa8",
   "metadata": {},
   "outputs": [
    {
     "name": "stdout",
     "output_type": "stream",
     "text": [
      "False\n",
      "False\n",
      "True\n",
      "False\n"
     ]
    }
   ],
   "source": [
    "class DataStream:\n",
    "    def __init__(self, value, k):\n",
    "        self.value = value\n",
    "        self.k = k\n",
    "        self.buffer = [None] * k\n",
    "        self.index = 0\n",
    "\n",
    "    def consec(self, num):\n",
    "        self.buffer[self.index] = num\n",
    "        self.index = (self.index + 1) % self.k\n",
    "        if None in self.buffer:\n",
    "            return False\n",
    "        return all(x == self.value for x in self.buffer)\n",
    "dataStream = DataStream(4, 3)\n",
    "print(dataStream.consec(4))  # False\n",
    "print(dataStream.consec(4))  # False\n",
    "print(dataStream.consec(4))  # True\n",
    "print(dataStream.consec(3))  # False\n"
   ]
  },
  {
   "cell_type": "code",
   "execution_count": null,
   "id": "b571f181",
   "metadata": {},
   "outputs": [],
   "source": []
  }
 ],
 "metadata": {
  "kernelspec": {
   "display_name": "Python 3",
   "language": "python",
   "name": "python3"
  },
  "language_info": {
   "codemirror_mode": {
    "name": "ipython",
    "version": 3
   },
   "file_extension": ".py",
   "mimetype": "text/x-python",
   "name": "python",
   "nbconvert_exporter": "python",
   "pygments_lexer": "ipython3",
   "version": "3.7.6"
  }
 },
 "nbformat": 4,
 "nbformat_minor": 5
}
