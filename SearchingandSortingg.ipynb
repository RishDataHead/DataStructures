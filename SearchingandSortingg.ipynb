{
 "cells": [
  {
   "cell_type": "markdown",
   "id": "7684118c",
   "metadata": {},
   "source": [
    "# <aside>\n",
    "💡 1. **Merge Intervals**\n",
    "\n",
    "Given an array of `intervals` where `intervals[i] = [starti, endi]`, merge all overlapping intervals, and return *an array of the non-overlapping intervals that cover all the intervals in the input*.\n",
    "\n",
    "**Example 1:**\n",
    "    Input: intervals = [[1,3],[2,6],[8,10],[15,18]]\n",
    "Output: [[1,6],[8,10],[15,18]]\n",
    "Explanation: Since intervals [1,3] and [2,6] overlap, merge them into [1,6].\n",
    "\n",
    "</aside>"
   ]
  },
  {
   "cell_type": "code",
   "execution_count": 1,
   "id": "65bbb978",
   "metadata": {},
   "outputs": [
    {
     "name": "stdout",
     "output_type": "stream",
     "text": [
      "Merged Intervals: [[1, 6], [8, 10], [15, 18]]\n"
     ]
    }
   ],
   "source": [
    "def merge(intervals):\n",
    "    intervals.sort(key=lambda x: x[0])  # Sort intervals based on start times\n",
    "    merged = []\n",
    "\n",
    "    for interval in intervals:\n",
    "        if not merged or interval[0] > merged[-1][1]:\n",
    "            merged.append(interval)\n",
    "        else:\n",
    "            merged[-1][1] = max(merged[-1][1], interval[1])\n",
    "\n",
    "    return merged\n",
    "\n",
    "# Test the implementation\n",
    "intervals = [[1, 3], [2, 6], [8, 10], [15, 18]]\n",
    "result = merge(intervals)\n",
    "print(\"Merged Intervals:\", result)\n"
   ]
  },
  {
   "cell_type": "markdown",
   "id": "cd7cadca",
   "metadata": {},
   "source": [
    "# <aside>\n",
    "💡 2. **Sort Colors**\n",
    "\n",
    "Given an array `nums` with `n` objects colored red, white, or blue, sort them **[in-place](https://en.wikipedia.org/wiki/In-place_algorithm)** so that objects of the same color are adjacent, with the colors in the order red, white, and blue.\n",
    "\n",
    "We will use the integers `0`, `1`, and `2` to represent the color red, white, and blue, respectively.\n",
    "\n",
    "You must solve this problem without using the library's sort function.\n",
    "    Input: nums = [2,0,2,1,1,0]\n",
    "Output: [0,0,1,1,2,2]\n",
    "\n",
    "</aside>"
   ]
  },
  {
   "cell_type": "code",
   "execution_count": 2,
   "id": "ac9acd86",
   "metadata": {},
   "outputs": [
    {
     "name": "stdout",
     "output_type": "stream",
     "text": [
      "Sorted Colors: [0, 0, 1, 1, 2, 2]\n"
     ]
    }
   ],
   "source": [
    "def sortColors(nums):\n",
    "    low = 0\n",
    "    mid = 0\n",
    "    high = len(nums) - 1\n",
    "\n",
    "    while mid <= high:\n",
    "        if nums[mid] == 0:\n",
    "            nums[low], nums[mid] = nums[mid], nums[low]\n",
    "            low += 1\n",
    "            mid += 1\n",
    "        elif nums[mid] == 1:\n",
    "            mid += 1\n",
    "        else:\n",
    "            nums[mid], nums[high] = nums[high], nums[mid]\n",
    "            high -= 1\n",
    "\n",
    "# Test the implementation\n",
    "nums = [2, 0, 2, 1, 1, 0]\n",
    "sortColors(nums)\n",
    "print(\"Sorted Colors:\", nums)\n"
   ]
  },
  {
   "cell_type": "markdown",
   "id": "e1ce9588",
   "metadata": {},
   "source": [
    "# <aside>\n",
    "💡 3. **First Bad Version Solution**\n",
    "\n",
    "You are a product manager and currently leading a team to develop a new product. Unfortunately, the latest version of your product fails the quality check. Since each version is developed based on the previous version, all the versions after a bad version are also bad.\n",
    "\n",
    "Suppose you have `n` versions `[1, 2, ..., n]` and you want to find out the first bad one, which causes all the following ones to be bad.\n",
    "\n",
    "You are given an API `bool isBadVersion(version)` which returns whether `version` is bad. Implement a function to find the first bad version. You should minimize the number of calls to the API.\n",
    "    \n",
    "    Input: n = 5, bad = 4\n",
    "Output: 4\n",
    "Explanation:\n",
    "call isBadVersion(3) -> false\n",
    "call isBadVersion(5) -> true\n",
    "call isBadVersion(4) -> true\n",
    "Then 4 is the first bad version.\n",
    "\n",
    "\n",
    "</aside>"
   ]
  },
  {
   "cell_type": "markdown",
   "id": "984360f0",
   "metadata": {},
   "source": [
    "def firstBadVersion(n):\n",
    "    left = 1\n",
    "    right = n\n",
    "\n",
    "    while left < right:\n",
    "        mid = left + (right - left) // 2\n",
    "\n",
    "        if isBadVersion(mid):\n",
    "            right = mid\n",
    "        else:\n",
    "            left = mid + 1\n",
    "\n",
    "    return left\n",
    "\n",
    "# Test the implementation\n",
    "n = 5\n",
    "first_bad = 4\n",
    "bad_version = firstBadVersion(n)\n",
    "print(\"First Bad Version:\", bad_version)\n",
    "\n",
    "#Note: The implementation assumes the existence of an isBadVersion API function that returns a boolean indicating whether a given version is bad or not. You need to replace the isBadVersion function with the actual API call in your code."
   ]
  },
  {
   "cell_type": "markdown",
   "id": "1b42e365",
   "metadata": {},
   "source": [
    "# <aside>\n",
    "💡 4. **Maximum Gap**\n",
    "\n",
    "Given an integer array `nums`, return *the maximum difference between two successive elements in its sorted form*. If the array contains less than two elements, return `0`.\n",
    "\n",
    "You must write an algorithm that runs in linear time and uses linear extra space.\n",
    "\n",
    "**Example 1:**\n",
    "    Input: nums = [3,6,9,1]\n",
    "Output: 3\n",
    "Explanation: The sorted form of the array is [1,3,6,9], either (3,6) or (6,9) has the maximum difference 3.\n",
    "\n",
    "</aside>"
   ]
  },
  {
   "cell_type": "code",
   "execution_count": 4,
   "id": "35111fc6",
   "metadata": {},
   "outputs": [
    {
     "name": "stdout",
     "output_type": "stream",
     "text": [
      "Maximum Gap: 3\n"
     ]
    }
   ],
   "source": [
    "def maximumGap(nums):\n",
    "    if len(nums) < 2:\n",
    "        return 0\n",
    "\n",
    "    # Find the maximum element in the array\n",
    "    max_num = max(nums)\n",
    "\n",
    "    # Perform Radix Sort\n",
    "    exp = 1\n",
    "    while max_num // exp > 0:\n",
    "        count = [0] * 10\n",
    "        output = [0] * len(nums)\n",
    "\n",
    "        # Counting sort based on the current digit\n",
    "        for num in nums:\n",
    "            count[(num // exp) % 10] += 1\n",
    "\n",
    "        # Calculate cumulative count\n",
    "        for i in range(1, 10):\n",
    "            count[i] += count[i - 1]\n",
    "\n",
    "        # Build the sorted array\n",
    "        i = len(nums) - 1\n",
    "        while i >= 0:\n",
    "            digit = (nums[i] // exp) % 10\n",
    "            output[count[digit] - 1] = nums[i]\n",
    "            count[digit] -= 1\n",
    "            i -= 1\n",
    "\n",
    "        # Copy the sorted array to nums\n",
    "        for i in range(len(nums)):\n",
    "            nums[i] = output[i]\n",
    "\n",
    "        exp *= 10\n",
    "\n",
    "    # Find the maximum difference between two successive elements\n",
    "    max_diff = 0\n",
    "    for i in range(1, len(nums)):\n",
    "        max_diff = max(max_diff, nums[i] - nums[i - 1])\n",
    "\n",
    "    return max_diff\n",
    "\n",
    "# Test the implementation\n",
    "nums = [3, 6, 9, 1]\n",
    "max_gap = maximumGap(nums)\n",
    "print(\"Maximum Gap:\", max_gap)\n"
   ]
  },
  {
   "cell_type": "markdown",
   "id": "adc9ddca",
   "metadata": {},
   "source": [
    "# <aside>\n",
    "💡 5. **Contains Duplicate**\n",
    "\n",
    "Given an integer array `nums`, return `true` if any value appears **at least twice** in the array, and return `false` if every element is distinct.\n",
    "\n",
    "**Example 1:**\n",
    "    Input: nums = [1,2,3,1]\n",
    "Output: true\n",
    "\n",
    "\n",
    "</aside>"
   ]
  },
  {
   "cell_type": "code",
   "execution_count": 5,
   "id": "0c91ec0e",
   "metadata": {},
   "outputs": [
    {
     "name": "stdout",
     "output_type": "stream",
     "text": [
      "Contains Duplicate: True\n"
     ]
    }
   ],
   "source": [
    "def containsDuplicate(nums):\n",
    "    unique_set = set()\n",
    "\n",
    "    for num in nums:\n",
    "        if num in unique_set:\n",
    "            return True\n",
    "        unique_set.add(num)\n",
    "\n",
    "    return False\n",
    "\n",
    "# Test the implementation\n",
    "nums = [1, 2, 3, 1]\n",
    "contains_dup = containsDuplicate(nums)\n",
    "print(\"Contains Duplicate:\", contains_dup)\n"
   ]
  },
  {
   "cell_type": "markdown",
   "id": "772a51e4",
   "metadata": {},
   "source": [
    "# <aside>\n",
    "💡 6. **Minimum Number of Arrows to Burst Balloons**\n",
    "\n",
    "There are some spherical balloons taped onto a flat wall that represents the XY-plane. The balloons are represented as a 2D integer array `points` where `points[i] = [xstart, xend]` denotes a balloon whose **horizontal diameter** stretches between `xstart` and `xend`. You do not know the exact y-coordinates of the balloons.\n",
    "\n",
    "Arrows can be shot up **directly vertically** (in the positive y-direction) from different points along the x-axis. A balloon with `xstart` and `xend` is **burst** by an arrow shot at `x` if `xstart <= x <= xend`. There is **no limit** to the number of arrows that can be shot. A shot arrow keeps traveling up infinitely, bursting any balloons in its path.\n",
    "\n",
    "Given the array `points`, return *the **minimum** number of arrows that must be shot to burst all balloons*.\n",
    "    Input: points = [[10,16],[2,8],[1,6],[7,12]]\n",
    "Output: 2\n",
    "Explanation: The balloons can be burst by 2 arrows:\n",
    "- Shoot an arrow at x = 6, bursting the balloons [2,8] and [1,6].\n",
    "- Shoot an arrow at x = 11, bursting the balloons [10,16] and [7,12].\n",
    "\n",
    "\n",
    "</aside>"
   ]
  },
  {
   "cell_type": "code",
   "execution_count": 6,
   "id": "f8ab03a1",
   "metadata": {},
   "outputs": [
    {
     "name": "stdout",
     "output_type": "stream",
     "text": [
      "Minimum Number of Arrows: 2\n"
     ]
    }
   ],
   "source": [
    "def findMinArrowShots(points):\n",
    "    if not points:\n",
    "        return 0\n",
    "\n",
    "    points.sort(key=lambda x: x[1])  # Sort balloons based on end points\n",
    "    arrows = 1  # At least one arrow is needed\n",
    "    end = points[0][1]  # Set the initial end point\n",
    "\n",
    "    for i in range(1, len(points)):\n",
    "        if points[i][0] > end:\n",
    "            # Current balloon's start point is after the current end point,\n",
    "            # a new arrow is needed\n",
    "            arrows += 1\n",
    "            end = points[i][1]  # Update the end point\n",
    "\n",
    "    return arrows\n",
    "\n",
    "# Test the implementation\n",
    "points = [[10, 16], [2, 8], [1, 6], [7, 12]]\n",
    "min_arrows = findMinArrowShots(points)\n",
    "print(\"Minimum Number of Arrows:\", min_arrows)\n"
   ]
  },
  {
   "cell_type": "markdown",
   "id": "a8f90391",
   "metadata": {},
   "source": [
    "# <aside>\n",
    "💡 7. **Longest Increasing Subsequence**\n",
    "\n",
    "Given an integer array `nums`, return *the length of the longest **strictly increasing***\n",
    "\n",
    "***subsequence***\n",
    "\n",
    ".\n",
    "\n",
    "**Example 1:**\n",
    "    Input: nums = [10,9,2,5,3,7,101,18]\n",
    "Output: 4\n",
    "Explanation: The longest increasing subsequence is [2,3,7,101], therefore the length is 4.\n",
    "\n",
    "\n",
    "</aside>"
   ]
  },
  {
   "cell_type": "code",
   "execution_count": 7,
   "id": "004883f8",
   "metadata": {},
   "outputs": [
    {
     "name": "stdout",
     "output_type": "stream",
     "text": [
      "Length of Longest Increasing Subsequence: 4\n"
     ]
    }
   ],
   "source": [
    "def lengthOfLIS(nums):\n",
    "    if not nums:\n",
    "        return 0\n",
    "\n",
    "    n = len(nums)\n",
    "    dp = [1] * n  # Initialize the DP array with 1\n",
    "\n",
    "    for i in range(1, n):\n",
    "        for j in range(i):\n",
    "            if nums[i] > nums[j]:\n",
    "                dp[i] = max(dp[i], dp[j] + 1)\n",
    "\n",
    "    return max(dp)\n",
    "\n",
    "# Test the implementation\n",
    "nums = [10, 9, 2, 5, 3, 7, 101, 18]\n",
    "length = lengthOfLIS(nums)\n",
    "print(\"Length of Longest Increasing Subsequence:\", length)\n"
   ]
  },
  {
   "cell_type": "markdown",
   "id": "4ba50b5c",
   "metadata": {},
   "source": [
    "# <aside>\n",
    "💡 8. **132 Pattern**\n",
    "\n",
    "Given an array of `n` integers `nums`, a **132 pattern** is a subsequence of three integers `nums[i]`, `nums[j]` and `nums[k]` such that `i < j < k` and `nums[i] < nums[k] < nums[j]`.\n",
    "\n",
    "Return `true` *if there is a **132 pattern** in* `nums`*, otherwise, return* `false`*.*\n",
    "\n",
    "**Example 1:**\n",
    "    Input: nums = [1,2,3,4]\n",
    "Output: false\n",
    "Explanation: There is no 132 pattern in the sequence.\n",
    "\n",
    "\n",
    "</aside>"
   ]
  },
  {
   "cell_type": "code",
   "execution_count": 8,
   "id": "8d15c177",
   "metadata": {},
   "outputs": [
    {
     "name": "stdout",
     "output_type": "stream",
     "text": [
      "Has 132 Pattern: False\n"
     ]
    }
   ],
   "source": [
    "def find132pattern(nums):\n",
    "    n = len(nums)\n",
    "    stack = []\n",
    "    s3 = float('-inf')  # Initialize s3 to negative infinity\n",
    "\n",
    "    for i in range(n-1, -1, -1):\n",
    "        if nums[i] < s3:\n",
    "            return True\n",
    "        else:\n",
    "            while stack and nums[i] > stack[-1]:\n",
    "                s3 = stack.pop()\n",
    "            stack.append(nums[i])\n",
    "\n",
    "    return False\n",
    "\n",
    "# Test the implementation\n",
    "nums = [1, 2, 3, 4]\n",
    "has_pattern = find132pattern(nums)\n",
    "print(\"Has 132 Pattern:\", has_pattern)\n"
   ]
  },
  {
   "cell_type": "code",
   "execution_count": null,
   "id": "8d1d06a4",
   "metadata": {},
   "outputs": [],
   "source": []
  }
 ],
 "metadata": {
  "kernelspec": {
   "display_name": "Python 3",
   "language": "python",
   "name": "python3"
  },
  "language_info": {
   "codemirror_mode": {
    "name": "ipython",
    "version": 3
   },
   "file_extension": ".py",
   "mimetype": "text/x-python",
   "name": "python",
   "nbconvert_exporter": "python",
   "pygments_lexer": "ipython3",
   "version": "3.7.6"
  }
 },
 "nbformat": 4,
 "nbformat_minor": 5
}
