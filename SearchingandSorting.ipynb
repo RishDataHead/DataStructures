{
 "cells": [
  {
   "cell_type": "markdown",
   "id": "b5ca2762",
   "metadata": {},
   "source": [
    "# <aside>\n",
    "💡 1. **Merge k Sorted Lists**\n",
    "\n",
    "You are given an array of `k` linked-lists `lists`, each linked-list is sorted in ascending order.\n",
    "\n",
    "*Merge all the linked-lists into one sorted linked-list and return it.*\n",
    "\n",
    "</aside>"
   ]
  },
  {
   "cell_type": "code",
   "execution_count": 1,
   "id": "9c0052fd",
   "metadata": {},
   "outputs": [
    {
     "name": "stdout",
     "output_type": "stream",
     "text": [
      "1 1 2 3 4 4 5 6 "
     ]
    }
   ],
   "source": [
    "import heapq\n",
    "\n",
    "class ListNode:\n",
    "    def __init__(self, val=0, next=None):\n",
    "        self.val = val\n",
    "        self.next = next\n",
    "\n",
    "def mergeKLists(lists):\n",
    "    heap = []\n",
    "    dummy = ListNode()\n",
    "    current = dummy\n",
    "\n",
    "    # Insert the head nodes of each list into the min-heap\n",
    "    for i, node in enumerate(lists):\n",
    "        if node:\n",
    "            heapq.heappush(heap, (node.val, i, node))\n",
    "\n",
    "    while heap:\n",
    "        _, list_index, min_node = heapq.heappop(heap)\n",
    "\n",
    "        # Append the minimum node to the merged list\n",
    "        current.next = min_node\n",
    "        current = current.next\n",
    "\n",
    "        if min_node.next:\n",
    "            # Insert the next node of the list into the min-heap\n",
    "            heapq.heappush(heap, (min_node.next.val, list_index, min_node.next))\n",
    "\n",
    "    return dummy.next\n",
    "\n",
    "# Test the implementation\n",
    "# Example lists: [1->4->5, 1->3->4, 2->6]\n",
    "list1 = ListNode(1)\n",
    "list1.next = ListNode(4)\n",
    "list1.next.next = ListNode(5)\n",
    "\n",
    "list2 = ListNode(1)\n",
    "list2.next = ListNode(3)\n",
    "list2.next.next = ListNode(4)\n",
    "\n",
    "list3 = ListNode(2)\n",
    "list3.next = ListNode(6)\n",
    "\n",
    "lists = [list1, list2, list3]\n",
    "\n",
    "merged_list = mergeKLists(lists)\n",
    "\n",
    "# Print the merged list\n",
    "current = merged_list\n",
    "while current:\n",
    "    print(current.val, end=\" \")\n",
    "    current = current.next\n",
    "\n",
    "# Output: 1 1 2 3 4 4 5 6\n"
   ]
  },
  {
   "cell_type": "markdown",
   "id": "4d7c8f28",
   "metadata": {},
   "source": [
    "# <aside>\n",
    "💡 2. **Count of Smaller Numbers After Self**\n",
    "\n",
    "Given an integer array `nums`, return *an integer array* `counts` *where* `counts[i]` *is the number of smaller elements to the right of* `nums[i]`.\n",
    "\n",
    "</aside>Input: nums = [5,2,6,1]\n",
    "Output: [2,1,1,0]\n",
    "Explanation:\n",
    "To the right of 5 there are2 smaller elements (2 and 1).\n",
    "To the right of 2 there is only1 smaller element (1).\n",
    "To the right of 6 there is1 smaller element (1).\n",
    "To the right of 1 there is0 smaller element."
   ]
  },
  {
   "cell_type": "code",
   "execution_count": 2,
   "id": "68d9002a",
   "metadata": {},
   "outputs": [
    {
     "name": "stdout",
     "output_type": "stream",
     "text": [
      "Counts of smaller elements to the right: 4\n"
     ]
    }
   ],
   "source": [
    "def countSmaller(nums):\n",
    "    def mergeAndCount(left, right):\n",
    "        i, j, count = 0, 0, 0\n",
    "        merged = []\n",
    "\n",
    "        while i < len(left) and j < len(right):\n",
    "            if left[i] <= right[j]:\n",
    "                merged.append(left[i])\n",
    "                i += 1\n",
    "            else:\n",
    "                merged.append(right[j])\n",
    "                j += 1\n",
    "                count += len(left) - i\n",
    "\n",
    "        merged.extend(left[i:])\n",
    "        merged.extend(right[j:])\n",
    "\n",
    "        return count, merged\n",
    "\n",
    "    def sortAndCount(nums):\n",
    "        if len(nums) <= 1:\n",
    "            return 0, nums\n",
    "\n",
    "        mid = len(nums) // 2\n",
    "        left_count, left = sortAndCount(nums[:mid])\n",
    "        right_count, right = sortAndCount(nums[mid:])\n",
    "        merge_count, merged = mergeAndCount(left, right)\n",
    "\n",
    "        return left_count + right_count + merge_count, merged\n",
    "\n",
    "    counts, _ = sortAndCount(nums)\n",
    "    return counts\n",
    "\n",
    "# Test the implementation\n",
    "nums = [5, 2, 6, 1]\n",
    "counts = countSmaller(nums)\n",
    "print(\"Counts of smaller elements to the right:\", counts)\n"
   ]
  },
  {
   "cell_type": "markdown",
   "id": "fe702c45",
   "metadata": {},
   "source": [
    "<aside>\n",
    "💡 3. **Sort an Array**\n",
    "\n",
    "Given an array of integers `nums`, sort the array in ascending order and return it.\n",
    "\n",
    "You must solve the problem **without using any built-in** functions in `O(nlog(n))` time complexity and with the smallest space complexity possible.\n",
    "\n",
    "\n",
    "</aside># "
   ]
  },
  {
   "cell_type": "code",
   "execution_count": 3,
   "id": "a5d69256",
   "metadata": {},
   "outputs": [
    {
     "name": "stdout",
     "output_type": "stream",
     "text": [
      "Sorted array: [1, 2, 3, 5, 6]\n"
     ]
    }
   ],
   "source": [
    "def sortArray(nums):\n",
    "    def merge(left, right):\n",
    "        i, j = 0, 0\n",
    "        merged = []\n",
    "\n",
    "        while i < len(left) and j < len(right):\n",
    "            if left[i] <= right[j]:\n",
    "                merged.append(left[i])\n",
    "                i += 1\n",
    "            else:\n",
    "                merged.append(right[j])\n",
    "                j += 1\n",
    "\n",
    "        merged.extend(left[i:])\n",
    "        merged.extend(right[j:])\n",
    "\n",
    "        return merged\n",
    "\n",
    "    def mergeSort(nums):\n",
    "        if len(nums) <= 1:\n",
    "            return nums\n",
    "\n",
    "        mid = len(nums) // 2\n",
    "        left = mergeSort(nums[:mid])\n",
    "        right = mergeSort(nums[mid:])\n",
    "\n",
    "        return merge(left, right)\n",
    "\n",
    "    return mergeSort(nums)\n",
    "\n",
    "# Test the implementation\n",
    "nums = [5, 2, 6, 1, 3]\n",
    "sorted_nums = sortArray(nums)\n",
    "print(\"Sorted array:\", sorted_nums)\n"
   ]
  },
  {
   "cell_type": "markdown",
   "id": "7a4584b7",
   "metadata": {},
   "source": [
    "# <aside>\n",
    "💡 4. **Move all zeroes to end of array**\n",
    "\n",
    "Given an array of random numbers, Push all the zero’s of a given array to the end of the array. For example, if the given arrays is {1, 9, 8, 4, 0, 0, 2, 7, 0, 6, 0}, it should be changed to {1, 9, 8, 4, 2, 7, 6, 0, 0, 0, 0}. The order of all other elements should be same. Expected time complexity is O(n) and extra space is O(1).\n",
    "\n",
    "</aside>"
   ]
  },
  {
   "cell_type": "code",
   "execution_count": 4,
   "id": "41cddd88",
   "metadata": {},
   "outputs": [
    {
     "name": "stdout",
     "output_type": "stream",
     "text": [
      "Modified array: [1, 9, 8, 4, 6, 7, 2, 0, 0, 0, 0]\n"
     ]
    }
   ],
   "source": [
    "def moveZeroes(nums):\n",
    "    left = 0\n",
    "    right = len(nums) - 1\n",
    "\n",
    "    while left < right:\n",
    "        if nums[left] != 0:\n",
    "            left += 1\n",
    "        elif nums[left] == 0 and nums[right] != 0:\n",
    "            nums[left], nums[right] = nums[right], nums[left]\n",
    "            left += 1\n",
    "            right -= 1\n",
    "        elif nums[left] == 0 and nums[right] == 0:\n",
    "            right -= 1\n",
    "\n",
    "    return nums\n",
    "\n",
    "# Test the implementation\n",
    "nums = [1, 9, 8, 4, 0, 0, 2, 7, 0, 6, 0]\n",
    "modified_nums = moveZeroes(nums)\n",
    "print(\"Modified array:\", modified_nums)\n"
   ]
  },
  {
   "cell_type": "markdown",
   "id": "be3c75ac",
   "metadata": {},
   "source": [
    "# <aside>\n",
    "💡 5. **Rearrange array in alternating positive & negative items with O(1) extra space**\n",
    "\n",
    "Given an **array of positive** and **negative numbers**, arrange them in an **alternate** fashion such that every positive number is followed by a negative and vice-versa maintaining the **order of appearance**. The number of positive and negative numbers need not be equal. If there are more positive numbers they appear at the end of the array. If there are more negative numbers, they too appear at the end of the array."
   ]
  },
  {
   "cell_type": "code",
   "execution_count": 5,
   "id": "895fed23",
   "metadata": {},
   "outputs": [
    {
     "name": "stdout",
     "output_type": "stream",
     "text": [
      "Modified array: [1, 6, 5, -3, -2, 0, -4]\n"
     ]
    }
   ],
   "source": [
    "def rearrangeArray(nums):\n",
    "    pos = 0\n",
    "    neg = len(nums) - 1\n",
    "\n",
    "    while pos < neg:\n",
    "        if nums[pos] > 0:\n",
    "            pos += 1\n",
    "        elif nums[pos] <= 0 and nums[neg] > 0:\n",
    "            nums[pos], nums[neg] = nums[neg], nums[pos]\n",
    "            pos += 1\n",
    "            neg -= 1\n",
    "        elif nums[pos] <= 0 and nums[neg] <= 0:\n",
    "            neg -= 1\n",
    "\n",
    "    return nums\n",
    "\n",
    "# Test the implementation\n",
    "nums = [1, -3, 5, 6, -2, 0, -4]\n",
    "modified_nums = rearrangeArray(nums)\n",
    "print(\"Modified array:\", modified_nums)\n"
   ]
  },
  {
   "cell_type": "markdown",
   "id": "9f252b99",
   "metadata": {},
   "source": [
    "# <aside>\n",
    "💡 **6. Merge two sorted arrays**\n",
    "\n",
    "Given two sorted arrays, the task is to merge them in a sorted manner.\n",
    "    **Examples:**\n",
    "\n",
    "> Input: arr1[] = { 1, 3, 4, 5}, arr2[] = {2, 4, 6, 8} \n",
    "Output: arr3[] = {1, 2, 3, 4, 4, 5, 6, 8}\n",
    ">\n",
    "\n",
    "</aside>"
   ]
  },
  {
   "cell_type": "code",
   "execution_count": 6,
   "id": "cc697ce6",
   "metadata": {},
   "outputs": [
    {
     "name": "stdout",
     "output_type": "stream",
     "text": [
      "Merged array: [1, 2, 3, 4, 4, 5, 6, 8]\n"
     ]
    }
   ],
   "source": [
    "def mergeArrays(arr1, arr2):\n",
    "    n1 = len(arr1)\n",
    "    n2 = len(arr2)\n",
    "    arr3 = [0] * (n1 + n2)\n",
    "\n",
    "    i = 0  # Pointer for arr1\n",
    "    j = 0  # Pointer for arr2\n",
    "    k = 0  # Pointer for arr3\n",
    "\n",
    "    while i < n1 and j < n2:\n",
    "        if arr1[i] <= arr2[j]:\n",
    "            arr3[k] = arr1[i]\n",
    "            i += 1\n",
    "        else:\n",
    "            arr3[k] = arr2[j]\n",
    "            j += 1\n",
    "        k += 1\n",
    "\n",
    "    # Copy remaining elements from arr1, if any\n",
    "    while i < n1:\n",
    "        arr3[k] = arr1[i]\n",
    "        i += 1\n",
    "        k += 1\n",
    "\n",
    "    # Copy remaining elements from arr2, if any\n",
    "    while j < n2:\n",
    "        arr3[k] = arr2[j]\n",
    "        j += 1\n",
    "        k += 1\n",
    "\n",
    "    return arr3\n",
    "\n",
    "# Test the implementation\n",
    "arr1 = [1, 3, 4, 5]\n",
    "arr2 = [2, 4, 6, 8]\n",
    "merged_arr = mergeArrays(arr1, arr2)\n",
    "print(\"Merged array:\", merged_arr)\n"
   ]
  },
  {
   "cell_type": "markdown",
   "id": "aa03c9f0",
   "metadata": {},
   "source": [
    "# <aside>\n",
    "💡 7. **Intersection of Two Arrays**\n",
    "\n",
    "Given two integer arrays `nums1` and `nums2`, return *an array of their intersection*. Each element in the result must be **unique** and you may return the result in **any order**.\n",
    "    \n",
    "    Input: nums1 = [1,2,2,1], nums2 = [2,2]\n",
    "Output: [2]\n",
    "\n",
    "\n",
    "</aside>"
   ]
  },
  {
   "cell_type": "code",
   "execution_count": 7,
   "id": "a35b0e95",
   "metadata": {},
   "outputs": [
    {
     "name": "stdout",
     "output_type": "stream",
     "text": [
      "Intersection: [2]\n"
     ]
    }
   ],
   "source": [
    "def intersection(nums1, nums2):\n",
    "    set1 = set(nums1)\n",
    "    set2 = set(nums2)\n",
    "    intersection = []\n",
    "\n",
    "    for num in set1:\n",
    "        if num in set2:\n",
    "            intersection.append(num)\n",
    "\n",
    "    return intersection\n",
    "\n",
    "# Test the implementation\n",
    "nums1 = [1, 2, 2, 1]\n",
    "nums2 = [2, 2]\n",
    "result = intersection(nums1, nums2)\n",
    "print(\"Intersection:\", result)\n"
   ]
  },
  {
   "cell_type": "markdown",
   "id": "58b47baf",
   "metadata": {},
   "source": [
    "# <aside>\n",
    "💡 8. **Intersection of Two Arrays II**\n",
    "\n",
    "Given two integer arrays `nums1` and `nums2`, return *an array of their intersection*. Each element in the result must appear as many times as it shows in both arrays and you may return the result in **any order**.\n",
    "    Input: nums1 = [1,2,2,1], nums2 = [2,2]\n",
    "Output: [2,2]\n",
    "\n",
    "\n",
    "</aside>"
   ]
  },
  {
   "cell_type": "code",
   "execution_count": 8,
   "id": "6f75b881",
   "metadata": {},
   "outputs": [
    {
     "name": "stdout",
     "output_type": "stream",
     "text": [
      "Intersection: [2, 2]\n"
     ]
    }
   ],
   "source": [
    "def intersect(nums1, nums2):\n",
    "    freq = {}\n",
    "    intersection = []\n",
    "\n",
    "    for num in nums1:\n",
    "        if num in freq:\n",
    "            freq[num] += 1\n",
    "        else:\n",
    "            freq[num] = 1\n",
    "\n",
    "    for num in nums2:\n",
    "        if num in freq and freq[num] > 0:\n",
    "            intersection.append(num)\n",
    "            freq[num] -= 1\n",
    "\n",
    "    return intersection\n",
    "\n",
    "# Test the implementation\n",
    "nums1 = [1, 2, 2, 1]\n",
    "nums2 = [2, 2]\n",
    "result = intersect(nums1, nums2)\n",
    "print(\"Intersection:\", result)\n"
   ]
  },
  {
   "cell_type": "code",
   "execution_count": null,
   "id": "8f86968d",
   "metadata": {},
   "outputs": [],
   "source": []
  }
 ],
 "metadata": {
  "kernelspec": {
   "display_name": "Python 3",
   "language": "python",
   "name": "python3"
  },
  "language_info": {
   "codemirror_mode": {
    "name": "ipython",
    "version": 3
   },
   "file_extension": ".py",
   "mimetype": "text/x-python",
   "name": "python",
   "nbconvert_exporter": "python",
   "pygments_lexer": "ipython3",
   "version": "3.7.6"
  }
 },
 "nbformat": 4,
 "nbformat_minor": 5
}
