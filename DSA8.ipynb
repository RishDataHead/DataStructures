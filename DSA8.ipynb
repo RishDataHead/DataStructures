{
 "cells": [
  {
   "cell_type": "markdown",
   "metadata": {},
   "source": [
    "# Question 1"
   ]
  },
  {
   "cell_type": "markdown",
   "metadata": {},
   "source": [
    "Given two strings s1 and s2, return *the lowest **ASCII** sum of deleted characters to make two strings equal*.\n",
    "\n",
    "**Example 1:**\n",
    "\n",
    "**Input:** s1 = \"sea\", s2 = \"eat\"\n",
    "\n",
    "**Output:** 231\n",
    "\n",
    "**Explanation:** Deleting \"s\" from \"sea\" adds the ASCII value of \"s\" (115) to the sum.\n",
    "\n",
    "Deleting \"t\" from \"eat\" adds 116 to the sum.\n",
    "\n",
    "At the end, both strings are equal, and 115 + 116 = 231 is the minimum sum possible to achieve this."
   ]
  },
  {
   "cell_type": "code",
   "execution_count": 2,
   "metadata": {},
   "outputs": [
    {
     "name": "stdout",
     "output_type": "stream",
     "text": [
      "231\n"
     ]
    }
   ],
   "source": [
    "def minimumDeleteSum(s1, s2):\n",
    "    # Create a memoization table to store the minimum ASCII sums\n",
    "    memo = [[0] * (len(s2) + 1) for _ in range(len(s1) + 1)]\n",
    "    \n",
    "    # Fill the table starting from the last characters\n",
    "    for i in range(len(s1) - 1, -1, -1):\n",
    "        memo[i][len(s2)] = memo[i+1][len(s2)] + ord(s1[i])\n",
    "    \n",
    "    for j in range(len(s2) - 1, -1, -1):\n",
    "        memo[len(s1)][j] = memo[len(s1)][j+1] + ord(s2[j])\n",
    "    \n",
    "    # Fill the remaining cells of the table\n",
    "    for i in range(len(s1) - 1, -1, -1):\n",
    "        for j in range(len(s2) - 1, -1, -1):\n",
    "            if s1[i] == s2[j]:\n",
    "                memo[i][j] = memo[i+1][j+1]\n",
    "            else:\n",
    "                memo[i][j] = min(memo[i+1][j] + ord(s1[i]), memo[i][j+1] + ord(s2[j]))\n",
    "    \n",
    "    return memo[0][0]\n",
    "\n",
    "# Example usage\n",
    "s1 = \"sea\"\n",
    "s2 = \"eat\"\n",
    "result = minimumDeleteSum(s1, s2)\n",
    "print(result)\n"
   ]
  },
  {
   "cell_type": "markdown",
   "metadata": {},
   "source": [
    "\n",
    "💡 **Question 2**\n",
    "\n",
    "Given a string s containing only three types of characters: '(', ')' and '*', return true *if* s *is **valid***.\n",
    "\n",
    "The following rules define a **valid** string:\n",
    "\n",
    "- Any left parenthesis '(' must have a corresponding right parenthesis ')'.\n",
    "- Any right parenthesis ')' must have a corresponding left parenthesis '('.\n",
    "- Left parenthesis '(' must go before the corresponding right parenthesis ')'.\n",
    "- '*' could be treated as a single right parenthesis ')' or a single left parenthesis '(' or an empty string \"\".\n",
    "\n",
    "**Example 1:**\n",
    "\n",
    "**Input:** s = \"()\"\n",
    "\n",
    "**Output:**\n",
    "\n",
    "true\n",
    "\n"
   ]
  },
  {
   "cell_type": "code",
   "execution_count": 3,
   "metadata": {},
   "outputs": [
    {
     "name": "stdout",
     "output_type": "stream",
     "text": [
      "True\n"
     ]
    }
   ],
   "source": [
    "def isValid(s):\n",
    "    stack = []\n",
    "    star_stack = []\n",
    "    \n",
    "    for char in s:\n",
    "        if char == '(':\n",
    "            stack.append(char)\n",
    "            star_stack.append(len(stack) - 1)\n",
    "        elif char == ')':\n",
    "            if stack:\n",
    "                stack.pop()\n",
    "                if star_stack:\n",
    "                    star_stack.pop()\n",
    "                else:\n",
    "                    if not stack:\n",
    "                        return False\n",
    "            else:\n",
    "                if star_stack:\n",
    "                    star_stack.pop()\n",
    "                else:\n",
    "                    return False\n",
    "        elif char == '*':\n",
    "            stack.append(char)\n",
    "            star_stack.append(len(stack) - 1)\n",
    "    \n",
    "    while stack and star_stack:\n",
    "        if stack.pop() == '*' and star_stack.pop() < len(stack):\n",
    "            continue\n",
    "        else:\n",
    "            return False\n",
    "    \n",
    "    return not stack\n",
    "\n",
    "# Example usage\n",
    "s = \"()\"\n",
    "result = isValid(s)\n",
    "print(result)\n"
   ]
  },
  {
   "cell_type": "markdown",
   "metadata": {},
   "source": [
    "# <aside>\n",
    "💡 **Question 3**\n",
    "\n",
    "Given two strings word1 and word2, return *the minimum number of **steps** required to make* word1 *and* word2 *the same*.\n",
    "\n",
    "In one **step**, you can delete exactly one character in either string.\n",
    "\n",
    "**Example 1:**\n",
    "\n",
    "**Input:** word1 = \"sea\", word2 = \"eat\"\n",
    "\n",
    "**Output:** 2\n",
    "\n",
    "**Explanation:** You need one step to make \"sea\" to \"ea\" and another step to make \"eat\" to \"ea\".\n",
    "\n",
    "</aside>"
   ]
  },
  {
   "cell_type": "code",
   "execution_count": 4,
   "metadata": {},
   "outputs": [
    {
     "name": "stdout",
     "output_type": "stream",
     "text": [
      "2\n"
     ]
    }
   ],
   "source": [
    "def minDistance(word1, word2):\n",
    "    m = len(word1)\n",
    "    n = len(word2)\n",
    "    \n",
    "    # Create a memoization table to store the minimum number of steps\n",
    "    memo = [[0] * (n + 1) for _ in range(m + 1)]\n",
    "    \n",
    "    # Initialize the first row and column of the memoization table\n",
    "    for i in range(m + 1):\n",
    "        memo[i][0] = i\n",
    "    for j in range(n + 1):\n",
    "        memo[0][j] = j\n",
    "    \n",
    "    # Fill the remaining cells of the table\n",
    "    for i in range(1, m + 1):\n",
    "        for j in range(1, n + 1):\n",
    "            if word1[i - 1] == word2[j - 1]:\n",
    "                memo[i][j] = memo[i - 1][j - 1]\n",
    "            else:\n",
    "                memo[i][j] = 1 + min(memo[i - 1][j], memo[i][j - 1])\n",
    "    \n",
    "    return memo[m][n]\n",
    "\n",
    "# Example usage\n",
    "word1 = \"sea\"\n",
    "word2 = \"eat\"\n",
    "result = minDistance(word1, word2)\n",
    "print(result)\n"
   ]
  },
  {
   "cell_type": "markdown",
   "metadata": {},
   "source": [
    "<aside>\n",
    "💡 **Question 4**\n",
    "\n",
    "You need to construct a binary tree from a string consisting of parenthesis and integers.\n",
    "\n",
    "The whole input represents a binary tree. It contains an integer followed by zero, one or two pairs of parenthesis. The integer represents the root's value and a pair of parenthesis contains a child binary tree with the same structure.\n",
    "You always start to construct the **left** child node of the parent first if it exists.\n",
    "\n",
    "</aside>"
   ]
  },
  {
   "cell_type": "code",
   "execution_count": 15,
   "metadata": {},
   "outputs": [
    {
     "name": "stdout",
     "output_type": "stream",
     "text": [
      "4 2 3 1 6 5 "
     ]
    }
   ],
   "source": [
    "\n",
    "\n",
    "\n",
    "class newNode:\n",
    "\tdef __init__(self, data):\n",
    "\t\tself.data = data\n",
    "\t\tself.left = self.right = None\n",
    "\n",
    "\n",
    "\n",
    "\n",
    "def preOrder(node):\n",
    "\tif (node == None):\n",
    "\t\treturn\n",
    "\tprint(node.data, end=' ')\n",
    "\tpreOrder(node.left)\n",
    "\tpreOrder(node.right)\n",
    "\n",
    "\n",
    "\n",
    "\n",
    "def findIndex(Str, si, ei):\n",
    "\tif (si > ei):\n",
    "\t\treturn -1\n",
    "\n",
    "\ts = []\n",
    "\tfor i in range(si, ei + 1):\n",
    "\n",
    "\t\t# if open parenthesis, push it\n",
    "\t\tif (Str[i] == '('):\n",
    "\t\t\ts.append(Str[i])\n",
    "\n",
    "\t\t# if close parenthesis\n",
    "\t\telif (Str[i] == ')'):\n",
    "\t\t\tif (s[-1] == '('):\n",
    "\t\t\t\ts.pop(-1)\n",
    "\n",
    "\t\t\t\t# if stack is empty, this is\n",
    "\t\t\t\t# the required index\n",
    "\t\t\t\tif len(s) == 0:\n",
    "\t\t\t\t\treturn i\n",
    "\t# if not found return -1\n",
    "\treturn -1\n",
    "\n",
    "# function to conStruct tree from String\n",
    "\n",
    "\n",
    "def treeFromString(Str, si, ei):\n",
    "\n",
    "\t# Base case\n",
    "\tif (si > ei):\n",
    "\t\treturn None\n",
    "\n",
    "\t# new root\n",
    "\troot = newNode(ord(Str[si]) - ord('0'))\n",
    "\tindex = -1\n",
    "\n",
    "\t# if next char is '(' find the\n",
    "\t# index of its complement ')'\n",
    "\tif (si + 1 <= ei and Str[si + 1] == '('):\n",
    "\t\tindex = findIndex(Str, si + 1, ei)\n",
    "\n",
    "\t# if index found\n",
    "\tif (index != -1):\n",
    "\n",
    "\t\t# call for left subtree\n",
    "\t\troot.left = treeFromString(Str, si + 2,\n",
    "\t\t\t\t\t\t\t\tindex - 1)\n",
    "\n",
    "\t\t# call for right subtree\n",
    "\t\troot.right = treeFromString(Str, index + 2,\n",
    "\t\t\t\t\t\t\t\t\tei - 1)\n",
    "\treturn root\n",
    "\n",
    "\n",
    "# Driver Code\n",
    "if __name__ == '__main__':\n",
    "\tStr = \"4(2(3)(1))(6(5))\"\n",
    "\troot = treeFromString(Str, 0, len(Str) - 1)\n",
    "\tpreOrder(root)\n",
    "\n"
   ]
  },
  {
   "cell_type": "markdown",
   "metadata": {},
   "source": [
    "# Question 5"
   ]
  },
  {
   "cell_type": "code",
   "execution_count": 16,
   "metadata": {},
   "outputs": [],
   "source": [
    "def compress(chars):\n",
    "    n = len(chars)\n",
    "    if n == 0:\n",
    "        return 0\n",
    "    \n",
    "    count = 1\n",
    "    write_idx = 0\n",
    "\n",
    "    for i in range(1, n):\n",
    "        if chars[i] == chars[i - 1]:\n",
    "            count += 1\n",
    "        else:\n",
    "            chars[write_idx] = chars[i - 1]\n",
    "            write_idx += 1\n",
    "            \n",
    "            if count > 1:\n",
    "                count_str = str(count)\n",
    "                for digit in count_str:\n",
    "                    chars[write_idx] = digit\n",
    "                    write_idx += 1\n",
    "            \n",
    "            count = 1\n",
    "    \n",
    "    chars[write_idx] = chars[n - 1]\n",
    "    write_idx += 1\n",
    "    \n",
    "    if count > 1:\n",
    "        count_str = str(count)\n",
    "        for digit in count_str:\n",
    "            chars[write_idx] = digit\n",
    "            write_idx += 1\n",
    "    \n",
    "    return write_idx\n"
   ]
  },
  {
   "cell_type": "code",
   "execution_count": 17,
   "metadata": {},
   "outputs": [
    {
     "name": "stdout",
     "output_type": "stream",
     "text": [
      "6\n",
      "['a', '2', 'b', '2', 'c', '3']\n"
     ]
    }
   ],
   "source": [
    "chars = [\"a\",\"a\",\"b\",\"b\",\"c\",\"c\",\"c\"]\n",
    "length = compress(chars)\n",
    "print(length)\n",
    "print(chars[:length])\n"
   ]
  },
  {
   "cell_type": "markdown",
   "metadata": {},
   "source": [
    "# Question 6"
   ]
  },
  {
   "cell_type": "markdown",
   "metadata": {},
   "source": [
    "Given two strings s and p, return *an array of all the start indices of* p*'s anagrams in* s. You may return the answer in **any order**.\n",
    "\n",
    "An **Anagram** is a word or phrase formed by rearranging the letters of a different word or phrase, typically using all the original letters exactly once.\n",
    "\n",
    "**Example 1:**\n",
    "\n",
    "**Input:** s = \"cbaebabacd\", p = \"abc\"\n",
    "\n",
    "**Output:** [0,6]\n",
    "\n",
    "**Explanation:**\n",
    "\n",
    "The substring with start index = 0 is \"cba\", which is an anagram of \"abc\".\n",
    "\n",
    "The substring with start index = 6 is \"bac\", which is an anagram of \"abc\"."
   ]
  },
  {
   "cell_type": "code",
   "execution_count": 18,
   "metadata": {},
   "outputs": [],
   "source": [
    "from collections import Counter\n",
    "\n",
    "def findAnagrams(s, p):\n",
    "    result = []\n",
    "    p_freq = Counter(p)\n",
    "    window_freq = Counter()\n",
    "\n",
    "    window_start = 0\n",
    "    for window_end in range(len(s)):\n",
    "        # Add the current character to the window frequency map\n",
    "        window_freq[s[window_end]] += 1\n",
    "\n",
    "        # Shrink the window if its size exceeds the length of p\n",
    "        if window_end - window_start + 1 > len(p):\n",
    "            # Remove the character at the window start from the frequency map\n",
    "            if window_freq[s[window_start]] == 1:\n",
    "                del window_freq[s[window_start]]\n",
    "            else:\n",
    "                window_freq[s[window_start]] -= 1\n",
    "            window_start += 1\n",
    "\n",
    "        # If the window frequency map matches the pattern frequency map, it's an anagram\n",
    "        if window_freq == p_freq:\n",
    "            result.append(window_start)\n",
    "\n",
    "    return result\n"
   ]
  },
  {
   "cell_type": "code",
   "execution_count": 19,
   "metadata": {},
   "outputs": [
    {
     "name": "stdout",
     "output_type": "stream",
     "text": [
      "[0, 6]\n"
     ]
    }
   ],
   "source": [
    "s = \"cbaebabacd\"\n",
    "p = \"abc\"\n",
    "output = findAnagrams(s, p)\n",
    "print(output)\n"
   ]
  },
  {
   "cell_type": "markdown",
   "metadata": {},
   "source": [
    "# Question 7"
   ]
  },
  {
   "cell_type": "markdown",
   "metadata": {},
   "source": [
    "<aside>\n",
    "💡 **Question 7**\n",
    "\n",
    "Given an encoded string, return its decoded string.\n",
    "\n",
    "The encoding rule is: k[encoded_string], where the encoded_string inside the square brackets is being repeated exactly k times. Note that k is guaranteed to be a positive integer.\n",
    "\n",
    "You may assume that the input string is always valid; there are no extra white spaces, square brackets are well-formed, etc. Furthermore, you may assume that the original data does not contain any digits and that digits are only for those repeat numbers, k. For example, there will not be input like 3a or 2[4].\n",
    "\n",
    "The test cases are generated so that the length of the output will never exceed 105.\n",
    "\n",
    "**Example 1:**\n",
    "\n",
    "**Input:** s = \"3[a]2[bc]\"\n",
    "\n",
    "**Output:** \"aaabcbc\"\n",
    "\n",
    "</aside>"
   ]
  },
  {
   "cell_type": "code",
   "execution_count": 20,
   "metadata": {},
   "outputs": [],
   "source": [
    "def decodeString(s):\n",
    "    stack = []\n",
    "    curr_string = ''\n",
    "    curr_num = 0\n",
    "\n",
    "    for char in s:\n",
    "        if char.isdigit():\n",
    "            curr_num = curr_num * 10 + int(char)\n",
    "        elif char == '[':\n",
    "            stack.append((curr_string, curr_num))\n",
    "            curr_string = ''\n",
    "            curr_num = 0\n",
    "        elif char == ']':\n",
    "            prev_string, repeat_count = stack.pop()\n",
    "            curr_string = prev_string + repeat_count * curr_string\n",
    "        else:\n",
    "            curr_string += char\n",
    "\n",
    "    return curr_string\n"
   ]
  },
  {
   "cell_type": "code",
   "execution_count": 21,
   "metadata": {},
   "outputs": [
    {
     "name": "stdout",
     "output_type": "stream",
     "text": [
      "aaabcbc\n"
     ]
    }
   ],
   "source": [
    "s = \"3[a]2[bc]\"\n",
    "output = decodeString(s)\n",
    "print(output)\n"
   ]
  },
  {
   "cell_type": "markdown",
   "metadata": {},
   "source": [
    "# <aside>\n",
    "💡 **Question 8**\n",
    "\n",
    "Given two strings s and goal, return true *if you can swap two letters in* s *so the result is equal to* goal*, otherwise, return* false*.*\n",
    "\n",
    "Swapping letters is defined as taking two indices i and j (0-indexed) such that i != j and swapping the characters at s[i] and s[j].\n",
    "\n",
    "- For example, swapping at indices 0 and 2 in \"abcd\" results in \"cbad\".\n",
    "\n",
    "**Example 1:**\n",
    "\n",
    "**Input:** s = \"ab\", goal = \"ba\"\n",
    "\n",
    "**Output:** true\n",
    "\n",
    "**Explanation:** You can swap s[0] = 'a' and s[1] = 'b' to get \"ba\", which is equal to goal.\n",
    "\n",
    "</aside>"
   ]
  },
  {
   "cell_type": "code",
   "execution_count": 22,
   "metadata": {},
   "outputs": [],
   "source": [
    "def buddyStrings(s, goal):\n",
    "    if len(s) != len(goal):\n",
    "        return False\n",
    "\n",
    "    if s == goal and len(set(s)) < len(s):\n",
    "        return True\n",
    "\n",
    "    differences = []\n",
    "    for i in range(len(s)):\n",
    "        if s[i] != goal[i]:\n",
    "            differences.append((s[i], goal[i]))\n",
    "\n",
    "    if len(differences) == 2 and differences[0] == differences[1][::-1]:\n",
    "        return True\n",
    "\n",
    "    return False\n"
   ]
  },
  {
   "cell_type": "code",
   "execution_count": 23,
   "metadata": {},
   "outputs": [
    {
     "name": "stdout",
     "output_type": "stream",
     "text": [
      "True\n"
     ]
    }
   ],
   "source": [
    "s = \"ab\"\n",
    "goal = \"ba\"\n",
    "output = buddyStrings(s, goal)\n",
    "print(output)\n"
   ]
  },
  {
   "cell_type": "code",
   "execution_count": null,
   "metadata": {},
   "outputs": [],
   "source": []
  }
 ],
 "metadata": {
  "kernelspec": {
   "display_name": "Python 3",
   "language": "python",
   "name": "python3"
  },
  "language_info": {
   "codemirror_mode": {
    "name": "ipython",
    "version": 3
   },
   "file_extension": ".py",
   "mimetype": "text/x-python",
   "name": "python",
   "nbconvert_exporter": "python",
   "pygments_lexer": "ipython3",
   "version": "3.7.6"
  }
 },
 "nbformat": 4,
 "nbformat_minor": 4
}
